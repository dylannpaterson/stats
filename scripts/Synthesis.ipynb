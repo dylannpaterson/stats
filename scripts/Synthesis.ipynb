{
 "cells": [
  {
   "cell_type": "code",
   "execution_count": 2,
   "id": "42861ec8",
   "metadata": {},
   "outputs": [],
   "source": [
    "import pandas as pd\n",
    "import numpy as np\n",
    "\n",
    "from matplotlib import pyplot as plt"
   ]
  },
  {
   "cell_type": "code",
   "execution_count": 3,
   "id": "54b0a22a",
   "metadata": {},
   "outputs": [
    {
     "name": "stdout",
     "output_type": "stream",
     "text": [
      "1780527.0\n"
     ]
    }
   ],
   "source": [
    "# Define the path to your CSV file\n",
    "file_path = \"data/processed/processed_data.csv\"\n",
    "\n",
    "# Read the CSV file into a pandas DataFrame\n",
    "df = pd.read_csv(file_path, dtype=\"str\")\n",
    "\n",
    "total_national_households = df[\"OBS_VALUE\"].astype(float).max()\n",
    "\n",
    "print(total_national_households)"
   ]
  },
  {
   "cell_type": "code",
   "execution_count": 4,
   "id": "a30bcf47",
   "metadata": {},
   "outputs": [],
   "source": [
    "household_composition_classification = pd.read_csv(\n",
    "    \"data/classifications/household_composition_classification.csv\", dtype=\"str\"\n",
    ")\n",
    "\n",
    "household_composition_classification_codes = household_composition_classification[\n",
    "    [\"hhld_comp_l1_code\", \"hhld_comp_l2_code\", \"hhld_comp_l3_code\"]\n",
    "]\n",
    "\n",
    "household_composition_classification_codes_all_levels = (\n",
    "    household_composition_classification_codes.melt()\n",
    "    .drop_duplicates()\n",
    "    .rename(columns={\"variable\": \"hhld_comp_level\", \"value\": \"household_composition_code\"})\n",
    ")\n",
    "\n",
    "household_composition_classification_codes_all_levels.loc[\n",
    "    household_composition_classification_codes_all_levels[\"household_composition_code\"]\n",
    "    == \"99999\",\n",
    "    \"hhld_comp_level\",\n",
    "] = \"Total\"\n",
    "\n",
    "household_composition_classification_codes_all_levels.loc[\n",
    "    household_composition_classification_codes_all_levels[\"household_composition_code\"]\n",
    "    == \"77777\",\n",
    "    \"hhld_comp_level\",\n",
    "] = \"Total stated\"\n",
    "\n",
    "household_composition_classification_codes_all_levels.dropna(inplace=True)"
   ]
  },
  {
   "cell_type": "code",
   "execution_count": 5,
   "id": "6f80d380",
   "metadata": {},
   "outputs": [],
   "source": [
    "number_bedrooms_classification = pd.read_csv(\n",
    "    \"data/classifications/number_bedrooms_classification.csv\", dtype='str'\n",
    ")\n",
    "\n",
    "\n",
    "number_bedrooms_all_levels = number_bedrooms_classification.rename(\n",
    "    columns={\"num_bedrooms_descriptor\": \"num_bedrooms_level\", \"num_bedrooms_code\": \"num_bedrooms\"},\n",
    "    inplace=False,\n",
    ")\n",
    "\n",
    "number_bedrooms_all_levels[\"num_bedrooms_level\"] = 'num_bedrooms_l1_code'\n",
    "\n",
    "number_bedrooms_all_levels.loc[\n",
    "    number_bedrooms_all_levels[\"num_bedrooms\"] == \"777\", \"num_bedrooms_level\"\n",
    "] = \"Total stated\"\n",
    "number_bedrooms_all_levels.loc[\n",
    "    number_bedrooms_all_levels[\"num_bedrooms\"] == \"999\", \"num_bedrooms_level\"\n",
    "] = \"Total\""
   ]
  },
  {
   "cell_type": "code",
   "execution_count": 6,
   "id": "60c66f96",
   "metadata": {},
   "outputs": [],
   "source": [
    "sa2_ta_concordance = pd.read_csv(\"data/classifications/sa2_to_ta_map.csv\", dtype='str').drop_duplicates()\n",
    "\n",
    "areas_all_levels = (\n",
    "    sa2_ta_concordance.melt()\n",
    "    .drop_duplicates()\n",
    "    .rename(columns={\"variable\": \"area_level\", \"value\": \"area_code\"})\n",
    ")\n",
    "\n",
    "areas_all_levels.loc[areas_all_levels[\"area_code\"] == \"999999\", \"area_level\"] = \"Total\"\n",
    "\n",
    "areas_all_levels.drop_duplicates(inplace=True)"
   ]
  },
  {
   "cell_type": "code",
   "execution_count": null,
   "id": "bacc7984",
   "metadata": {},
   "outputs": [],
   "source": []
  },
  {
   "cell_type": "code",
   "execution_count": 7,
   "id": "1d710d2a",
   "metadata": {},
   "outputs": [],
   "source": [
    "unique_hhld_comps = df[\"household_composition_code\"].drop_duplicates()\n",
    "\n",
    "\n",
    "unique_hhld_comps = unique_hhld_comps[\n",
    "    ~unique_hhld_comps.isin(\n",
    "        household_composition_classification_codes_all_levels[\n",
    "            \"household_composition_code\"\n",
    "        ].unique()\n",
    "    )\n",
    "]"
   ]
  },
  {
   "cell_type": "code",
   "execution_count": 8,
   "id": "b86b660e",
   "metadata": {},
   "outputs": [],
   "source": [
    "unique_areas = df[\"area_code\"].drop_duplicates()\n",
    "\n",
    "\n",
    "unique_areas = unique_areas[\n",
    "    ~unique_areas.isin(\n",
    "        areas_all_levels[\"area_code\"].unique()\n",
    "    )\n",
    "]"
   ]
  },
  {
   "cell_type": "code",
   "execution_count": 9,
   "id": "e600f486",
   "metadata": {},
   "outputs": [],
   "source": [
    "unique_num_beds_comps = df[\"num_bedrooms\"].drop_duplicates()\n",
    "\n",
    "\n",
    "# unique_hhld_comps = unique_hhld_comps[\n",
    "#     ~unique_hhld_comps.astype(int).isin(\n",
    "#         household_composition_classification_codes_all_levels[\"value\"].unique()\n",
    "#     )\n",
    "# ]"
   ]
  },
  {
   "cell_type": "code",
   "execution_count": 10,
   "id": "5efbd9db",
   "metadata": {},
   "outputs": [],
   "source": [
    "# # Define the path to your CSV file\n",
    "# file_path = \"data/raw/STATSNZ,CEN23_FHH_038,1.0+all.csv\"\n",
    "\n",
    "# # Read the CSV file into a pandas DataFrame\n",
    "# df = pd.read_csv(file_path, dtype='str')\n",
    "\n",
    "# # --- Step 1: Automatically detect and split columns with 'code:name' format ---\n",
    "# columns_to_drop = []\n",
    "# original_columns = df.columns.copy()\n",
    "# for col_name in original_columns:\n",
    "#     if df[col_name].dtype == \"object\":\n",
    "#         non_empty_values = df[col_name].dropna()\n",
    "#         if not non_empty_values.empty:\n",
    "#             first_value = non_empty_values.iloc[0]\n",
    "#             if \":\" in str(first_value):\n",
    "#                 new_cols = df[col_name].str.split(\":\", n=1, expand=True)\n",
    "#                 df[col_name + \"_code\"] = new_cols[0].str.strip()\n",
    "#                 df[col_name + \"_name\"] = new_cols[1].str.strip()\n",
    "#                 columns_to_drop.append(col_name)\n",
    "# if columns_to_drop:\n",
    "#     df = df.drop(columns=columns_to_drop)\n",
    "\n",
    "# # --- Step 2: Analyze the lengths of the area codes ---\n",
    "# area_code_col = None\n",
    "# for col in df.columns:\n",
    "#     if \"area\" in col.lower() and col.endswith(\"_code\"):\n",
    "#         area_code_col = col\n",
    "#         break\n",
    "# if area_code_col:\n",
    "#     df[\"code_length\"] = df[area_code_col].str.len()"
   ]
  },
  {
   "cell_type": "code",
   "execution_count": 11,
   "id": "6ecf3e9d",
   "metadata": {},
   "outputs": [],
   "source": [
    "# keep_df = df[[\n",
    "#     'CEN23_YEAR_001: Census year_name',\n",
    "#     'CEN23_GEO_013: Area_code',\n",
    "#     'CEN23_HUH_001: Household composition by number of usual residents_code',\n",
    "#     'CEN23_NRD_002: Number of bedrooms',\n",
    "#     'OBS_VALUE'\n",
    "#              ]]\n",
    "\n",
    "# rename_map = {\n",
    "#     'CEN23_YEAR_001: Census year_name':\"census_year\",\n",
    "#     \"CEN23_GEO_013: Area_code\": \"area_code\",\n",
    "#     \"CEN23_HUH_001: Household composition by number of usual residents_code\": \"household_composition_code\",\n",
    "#     \"CEN23_NRD_002: Number of bedrooms\": \"num_bedrooms\",\n",
    "# }\n",
    "\n",
    "# keep_df.rename(columns=rename_map, inplace=True)\n",
    "\n",
    "# keep_df.to_csv('data/processed/processed_data.csv')"
   ]
  },
  {
   "cell_type": "code",
   "execution_count": 12,
   "id": "e7101b4b",
   "metadata": {},
   "outputs": [],
   "source": [
    "df = df[\n",
    "    df[\"area_code\"].isin(areas_all_levels[\"area_code\"].unique())\n",
    "    & df[\"household_composition_code\"].isin(\n",
    "        household_composition_classification_codes_all_levels[\n",
    "            \"household_composition_code\"\n",
    "        ].unique()\n",
    "    )\n",
    "    & df[\"num_bedrooms\"].isin(number_bedrooms_classification[\"num_bedrooms_code\"])\n",
    "]\n",
    "\n",
    "df = df.merge(areas_all_levels).merge(household_composition_classification_codes_all_levels).merge(number_bedrooms_all_levels)"
   ]
  },
  {
   "cell_type": "code",
   "execution_count": 13,
   "id": "08c6fb8e",
   "metadata": {},
   "outputs": [
    {
     "name": "stdout",
     "output_type": "stream",
     "text": [
      "        census_year num_bedrooms OBS_VALUE\n",
      "2480992        2013           01     81576\n",
      "2480993        2013           02    280254\n",
      "2480994        2013           03    656304\n",
      "2480995        2013           04    345603\n",
      "2480996        2013           05    108042\n",
      "2480998        2013           99     78111\n",
      "4961992        2018           01    101334\n",
      "4961993        2018           02    316014\n",
      "4961994        2018           03    719424\n",
      "4961995        2018           04    395157\n",
      "4961996        2018           05    121077\n",
      "4961998        2018           99       777\n",
      "7442992        2023           01    120585\n",
      "7442993        2023           02    346641\n",
      "7442994        2023           03    748236\n",
      "7442995        2023           04    427845\n",
      "7442996        2023           05    136542\n",
      "7442998        2023           99       678\n"
     ]
    }
   ],
   "source": [
    "filtered_df = df[\n",
    "    (df['num_bedrooms_level'] == 'num_bedrooms_l1_code')\n",
    "    & (df['area_level'] == 'Total')\n",
    "    & (df['hhld_comp_level'] == 'Total')\n",
    "    ]\n",
    "\n",
    "filtered_df = filtered_df[['census_year','num_bedrooms','OBS_VALUE']]\n",
    "\n",
    "print(filtered_df)"
   ]
  },
  {
   "cell_type": "code",
   "execution_count": 14,
   "id": "6436841f",
   "metadata": {},
   "outputs": [],
   "source": [
    "lowest_level_data = df[\n",
    "    (df[\"num_bedrooms_level\"] == \"num_bedrooms_l1_code\")\n",
    "    & (df[\"area_level\"] == \"SA22023_code\")\n",
    "    & (df[\"hhld_comp_level\"] == \"hhld_comp_l3_code\")\n",
    "    & (df['census_year'] == '2023')\n",
    "]\n",
    "\n",
    "lowest_level_data = lowest_level_data[\n",
    "    [\"area_code\", \"household_composition_code\", \"num_bedrooms\", \"OBS_VALUE\"]\n",
    "]\n",
    "\n",
    "lowest_level_data.to_csv('data/processed/sa2_level_data.csv')"
   ]
  },
  {
   "cell_type": "code",
   "execution_count": 15,
   "id": "3f8eace0",
   "metadata": {},
   "outputs": [],
   "source": [
    "ta_level_data = df[\n",
    "    (df[\"num_bedrooms_level\"] == \"num_bedrooms_l1_code\")\n",
    "    & (df[\"area_level\"] == \"TA2023_code\")\n",
    "    & (df[\"hhld_comp_level\"] == \"hhld_comp_l3_code\")\n",
    "    & (df[\"census_year\"] == \"2023\")\n",
    "]\n",
    "\n",
    "ta_level_data = ta_level_data[\n",
    "    [\"area_code\", \"household_composition_code\", \"num_bedrooms\", \"OBS_VALUE\"]\n",
    "]\n",
    "\n",
    "ta_level_data.to_csv('data/processed/ta_level_data.csv')\n",
    "\n",
    "# ta_level_data[\"OBS_VALUE\"] = pd.to_numeric(ta_level_data[\"OBS_VALUE\"])"
   ]
  },
  {
   "cell_type": "code",
   "execution_count": 16,
   "id": "683a079b",
   "metadata": {},
   "outputs": [],
   "source": [
    "summarised_sa2_at_ta = lowest_level_data.merge(\n",
    "    sa2_ta_concordance, left_on=\"area_code\", right_on=\"SA22023_code\"\n",
    ")\n",
    "\n",
    "summarised_sa2_at_ta[\"OBS_VALUE\"] = pd.to_numeric(summarised_sa2_at_ta[\"OBS_VALUE\"])\n",
    "\n",
    "summarised_sa2_at_ta = (\n",
    "    summarised_sa2_at_ta\n",
    "    .groupby(\n",
    "        [\"household_composition_code\", \"num_bedrooms\", \"TA2023_code\"], as_index=False\n",
    "    )\n",
    "    .sum()\n",
    "    .loc[:, [\"household_composition_code\", \"num_bedrooms\", \"TA2023_code\", \"OBS_VALUE\"]]\n",
    "    .rename(columns = {'TA2023_code':'area_code','OBS_VALUE':'SA2_SUM'})\n",
    ")"
   ]
  },
  {
   "cell_type": "code",
   "execution_count": 17,
   "id": "38934ad3",
   "metadata": {},
   "outputs": [],
   "source": [
    "combined = ta_level_data.merge(summarised_sa2_at_ta)"
   ]
  },
  {
   "cell_type": "code",
   "execution_count": 19,
   "id": "4b89e239",
   "metadata": {},
   "outputs": [],
   "source": [
    "national_level_data = df[\n",
    "    (df[\"num_bedrooms_level\"] == \"num_bedrooms_l1_code\")\n",
    "    & (df[\"area_level\"] == \"Total\")\n",
    "    & (df[\"hhld_comp_level\"] == \"hhld_comp_l3_code\")\n",
    "    & (df[\"census_year\"] == \"2023\")\n",
    "]\n",
    "\n",
    "national_level_data = national_level_data[\n",
    "    [\"area_code\", \"household_composition_code\", \"num_bedrooms\", \"OBS_VALUE\"]\n",
    "]\n",
    "\n",
    "national_level_data.to_csv(\"data/processed/national_level_data.csv\")"
   ]
  }
 ],
 "metadata": {
  "kernelspec": {
   "display_name": "stats",
   "language": "python",
   "name": "python3"
  },
  "language_info": {
   "codemirror_mode": {
    "name": "ipython",
    "version": 3
   },
   "file_extension": ".py",
   "mimetype": "text/x-python",
   "name": "python",
   "nbconvert_exporter": "python",
   "pygments_lexer": "ipython3",
   "version": "3.13.5"
  }
 },
 "nbformat": 4,
 "nbformat_minor": 5
}
